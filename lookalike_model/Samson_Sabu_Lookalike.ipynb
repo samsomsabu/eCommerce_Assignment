{
 "cells": [
  {
   "cell_type": "code",
   "execution_count": 1,
   "metadata": {},
   "outputs": [],
   "source": [
    "# Import necessary libraries\n",
    "import pandas as pd\n",
    "from sklearn.metrics.pairwise import cosine_similarity\n",
    "from sklearn.preprocessing import StandardScaler"
   ]
  },
  {
   "cell_type": "code",
   "execution_count": 6,
   "metadata": {},
   "outputs": [],
   "source": [
    "# Load datasets (ensure the files are in the `data/` folder)\n",
    "customers = pd.read_csv('../data/Customers.csv')\n",
    "products = pd.read_csv('../data/Products.csv')\n",
    "transactions = pd.read_csv('../data/Transactions.csv')"
   ]
  },
  {
   "cell_type": "code",
   "execution_count": 2,
   "metadata": {},
   "outputs": [],
   "source": [
    "# Load merged data\n",
    "merged_data = pd.read_csv('../data/Merged_Data.csv')"
   ]
  },
  {
   "cell_type": "code",
   "execution_count": 3,
   "metadata": {},
   "outputs": [],
   "source": [
    "# Feature Engineering\n",
    "customer_data = merged_data.groupby('CustomerID').agg({\n",
    "    'TotalValue': 'sum',   # Total revenue from the customer\n",
    "    'Quantity': 'sum',     # Total quantity purchased\n",
    "    'ProductID': 'nunique', # Number of unique products\n",
    "    'TransactionDate': lambda x: (pd.to_datetime(merged_data['TransactionDate'].max()) - pd.to_datetime(x).max()).days\n",
    "}).reset_index()"
   ]
  },
  {
   "cell_type": "code",
   "execution_count": 4,
   "metadata": {},
   "outputs": [],
   "source": [
    "# Rename 'TransactionDate' to 'Recency'\n",
    "customer_data.rename(columns={'TransactionDate': 'Recency'}, inplace=True)\n",
    "\n",
    "# Normalize features\n",
    "scaler = StandardScaler()\n",
    "normalized_features = scaler.fit_transform(customer_data[['TotalValue', 'Quantity', 'ProductID', 'Recency']])\n",
    "\n",
    "# Compute cosine similarity\n",
    "similarity_matrix = cosine_similarity(normalized_features)"
   ]
  },
  {
   "cell_type": "code",
   "execution_count": 8,
   "metadata": {},
   "outputs": [
    {
     "name": "stdout",
     "output_type": "stream",
     "text": [
      "\n",
      "Compact Lookalike Recommendations:\n",
      "  CustomerID                                         Lookalikes\n",
      "0      C0001  [(C0191, 0.9864538255341586), (C0069, 0.981347...\n",
      "1      C0002  [(C0031, 0.9979033139477226), (C0029, 0.985410...\n",
      "2      C0003  [(C0176, 0.9549430669779934), (C0073, 0.893420...\n",
      "3      C0004  [(C0068, 0.9909049685559322), (C0113, 0.989168...\n",
      "4      C0005  [(C0123, 0.9997155252676422), (C0078, 0.994219...\n",
      "\n",
      "Expanded Lookalike Recommendations:\n",
      "  CustomerID Lookalike1    Score1 Lookalike2    Score2 Lookalike3    Score3\n",
      "0      C0001      C0191  0.986454      C0069  0.981347      C0137  0.973648\n",
      "1      C0002      C0031  0.997903      C0029  0.985410      C0197  0.960246\n",
      "2      C0003      C0176  0.954943      C0073  0.893420      C0144  0.891651\n",
      "3      C0004      C0068  0.990905      C0113  0.989169      C0017  0.988949\n",
      "4      C0005      C0123  0.999716      C0078  0.994220      C0036  0.993105\n",
      "\n",
      "Dynamic Recommendations for C0001:\n",
      "[('C0191', 0.9864538255341586), ('C0069', 0.9813471548574181), ('C0137', 0.9736481526191874), ('C0189', 0.9608106524124759), ('C0174', 0.9468510237928174)]\n"
     ]
    }
   ],
   "source": [
    "# Generate lookalike recommendations for the first 20 customers\n",
    "customer_ids = customer_data['CustomerID'].tolist()\n",
    "lookalike_results = {}\n",
    "\n",
    "for i, customer_id in enumerate(customer_ids[:20]):  # First 20 customers\n",
    "    similar_indices = similarity_matrix[i].argsort()[::-1][1:4]  # Top 3 similar customers\n",
    "    lookalike_results[customer_id] = [(customer_ids[j], similarity_matrix[i, j]) for j in similar_indices]\n",
    "\n",
    "# Save compact format\n",
    "lookalike_df = pd.DataFrame({\n",
    "    'CustomerID': lookalike_results.keys(),\n",
    "    'Lookalikes': lookalike_results.values()\n",
    "})\n",
    "lookalike_df.to_csv('Samson_Sabu_Lookalike.csv', index=False)\n",
    "\n",
    "# Expand Lookalikes into separate columns\n",
    "expanded_lookalike_df = pd.DataFrame([\n",
    "    {\n",
    "        'CustomerID': row['CustomerID'],\n",
    "        'Lookalike1': row['Lookalikes'][0][0],\n",
    "        'Score1': row['Lookalikes'][0][1],\n",
    "        'Lookalike2': row['Lookalikes'][1][0],\n",
    "        'Score2': row['Lookalikes'][1][1],\n",
    "        'Lookalike3': row['Lookalikes'][2][0],\n",
    "        'Score3': row['Lookalikes'][2][1],\n",
    "    }\n",
    "    for _, row in lookalike_df.iterrows()\n",
    "])\n",
    "\n",
    "# Save expanded format\n",
    "expanded_lookalike_df.to_csv('Samson_Sabu_Lookalike_Expanded.csv', index=False)\n",
    "\n",
    "# Display Results\n",
    "print(\"\\nCompact Lookalike Recommendations:\")\n",
    "print(lookalike_df.head())\n",
    "\n",
    "print(\"\\nExpanded Lookalike Recommendations:\")\n",
    "print(expanded_lookalike_df.head())\n",
    "\n",
    "# Function for dynamic recommendations\n",
    "def get_recommendations(customer_id, n=3):\n",
    "    if customer_id in customer_ids:\n",
    "        index = customer_ids.index(customer_id)\n",
    "        similar_indices = similarity_matrix[index].argsort()[::-1][1:n+1]\n",
    "        return [(customer_ids[j], similarity_matrix[index, j]) for j in similar_indices]\n",
    "    else:\n",
    "        return \"Customer not found.\"\n",
    "\n",
    "# Example Usage\n",
    "print(\"\\nDynamic Recommendations for C0001:\")\n",
    "print(get_recommendations('C0001', n=5))"
   ]
  },
  {
   "cell_type": "code",
   "execution_count": null,
   "metadata": {},
   "outputs": [],
   "source": []
  }
 ],
 "metadata": {
  "kernelspec": {
   "display_name": "Python 3",
   "language": "python",
   "name": "python3"
  },
  "language_info": {
   "codemirror_mode": {
    "name": "ipython",
    "version": 3
   },
   "file_extension": ".py",
   "mimetype": "text/x-python",
   "name": "python",
   "nbconvert_exporter": "python",
   "pygments_lexer": "ipython3",
   "version": "3.12.8"
  }
 },
 "nbformat": 4,
 "nbformat_minor": 2
}
